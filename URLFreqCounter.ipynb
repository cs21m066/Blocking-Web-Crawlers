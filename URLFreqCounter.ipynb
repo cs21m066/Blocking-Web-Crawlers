{
 "cells": [
  {
   "cell_type": "code",
   "execution_count": 1,
   "metadata": {},
   "outputs": [],
   "source": [
    "import pandas as pd\n",
    "import numpy as np\n",
    "import re\n",
    "import os\n",
    "from collections import defaultdict"
   ]
  },
  {
   "cell_type": "code",
   "execution_count": 2,
   "metadata": {},
   "outputs": [],
   "source": [
    "with open('webcopy-origin.txt', 'r') as file:\n",
    "    info = file.read()"
   ]
  },
  {
   "cell_type": "code",
   "execution_count": 3,
   "metadata": {},
   "outputs": [],
   "source": [
    "URLs = re.findall(r'https://www.iitm.ac.in/.*', info)"
   ]
  },
  {
   "cell_type": "code",
   "execution_count": 4,
   "metadata": {},
   "outputs": [],
   "source": [
    "URLs = [URL[22:] for URL in URLs]"
   ]
  },
  {
   "cell_type": "code",
   "execution_count": 5,
   "metadata": {},
   "outputs": [],
   "source": [
    "URL_freq = defaultdict(int)\n",
    "URL_freq_logs = defaultdict(int)\n",
    "\n",
    "for i in URLs:\n",
    "    URL_freq[i] = 0"
   ]
  },
  {
   "cell_type": "code",
   "execution_count": 6,
   "metadata": {},
   "outputs": [
    {
     "data": {
      "text/plain": [
       "5387"
      ]
     },
     "execution_count": 6,
     "metadata": {},
     "output_type": "execute_result"
    }
   ],
   "source": [
    "len(URL_freq)"
   ]
  },
  {
   "cell_type": "code",
   "execution_count": 7,
   "metadata": {},
   "outputs": [],
   "source": [
    "foldername = \"/home/narayanaswamy/Workspace/iitmLogs/\"\n",
    "log_files = os.listdir(foldername)"
   ]
  },
  {
   "cell_type": "code",
   "execution_count": 8,
   "metadata": {},
   "outputs": [],
   "source": [
    "def removeIITMSearchParams(x):\n",
    "    m = re.match(r\"(?P<base>.*(search|403|robots[.]txt))[/?]\", x)\n",
    "    if m == None:\n",
    "        return x\n",
    "    return m.group(\"base\")"
   ]
  },
  {
   "cell_type": "code",
   "execution_count": 9,
   "metadata": {},
   "outputs": [],
   "source": [
    "def getUsefulFilter(filename):\n",
    "    unfilteredData = pd.read_csv(foldername + filename)\n",
    "    onlyIITMData = unfilteredData.loc[(unfilteredData['req_host'].str.contains(\"www.iitm.ac.in\", case = False)) & (unfilteredData['req_method'] == \"get\")]\n",
    "    onlyIITMData = onlyIITMData[~onlyIITMData['request'].str.contains(r'[.](jpg|jpeg|css|js|png|woff|gif|svg|ico)')]\n",
    "    processedRequests = [removeIITMSearchParams(x) for x in onlyIITMData['request']]\n",
    "    return onlyIITMData['request']"
   ]
  },
  {
   "cell_type": "code",
   "execution_count": 10,
   "metadata": {},
   "outputs": [
    {
     "name": "stdout",
     "output_type": "stream",
     "text": [
      "10.24.0.253-2023-03-24-syslog.log\n",
      "10.24.0.253-2023-01-21-syslog.log\n",
      "10.24.0.253-2022-10-26-syslog.log\n",
      "10.24.0.253-2022-12-12-syslog.log\n",
      "10.24.0.253-2023-02-28-syslog.log\n",
      "10.24.0.253-2022-11-21-syslog.log\n",
      "10.24.0.253-2023-03-05-syslog.log\n",
      "10.24.0.253-2023-04-01-syslog.log\n",
      "10.24.0.253-2022-10-13-syslog.log\n",
      "10.24.0.253-2022-10-15-syslog.log\n",
      "10.24.0.253-2022-10-30-syslog.log\n",
      "10.24.0.253-2023-01-26-syslog.log\n",
      "10.24.0.253-2022-11-14-syslog.log\n",
      "10.24.0.253-2023-03-26-syslog.log\n",
      "10.24.0.253-2022-10-22-syslog.log\n",
      "10.24.0.253-2023-02-18-syslog.log\n",
      "10.24.0.253-2022-10-31-syslog.log\n",
      "10.24.0.253-2023-01-29-syslog.log\n",
      "10.24.0.253-2022-10-16-syslog.log\n",
      "10.24.0.253-2023-03-22-syslog.log\n",
      "10.24.0.253-2023-01-30-syslog.log\n",
      "10.24.0.253-2022-11-05-syslog.log\n",
      "10.24.0.253-2022-10-19-syslog.log\n",
      "10.24.0.253-2022-10-17-syslog.log\n",
      "10.24.0.253-2023-02-25-syslog.log\n",
      "10.24.0.253-2022-12-27-syslog.log\n",
      "10.24.0.253-2022-12-21-syslog.log\n",
      "10.24.0.253-2023-02-17-syslog.log\n",
      "10.24.0.253-2023-02-06-syslog.log\n",
      "10.24.0.253-2022-10-18-syslog.log\n",
      "10.24.0.253-2023-01-19-syslog.log\n",
      "10.24.0.253-2023-02-16-syslog.log\n",
      "10.24.0.253-2022-12-19-syslog.log\n",
      "10.24.0.253-2022-10-28-syslog.log\n",
      "10.24.0.253-2023-03-10-syslog.log\n",
      "10.24.0.253-2023-02-12-syslog.log\n",
      "10.24.0.253-2023-01-17-syslog.log\n",
      "10.24.0.253-2022-10-29-syslog.log\n",
      "10.24.0.253-2023-01-16-syslog.log\n",
      "10.24.0.253-2022-11-02-syslog.log\n",
      "10.24.0.253-2022-10-21-syslog.log\n",
      "10.24.0.253-2022-11-07-syslog.log\n",
      "10.24.0.253-2022-11-16-syslog.log\n",
      "10.24.0.253-2023-03-09-syslog.log\n",
      "10.24.0.253-2023-03-28-syslog.log\n",
      "10.24.0.253-2022-11-03-syslog.log\n",
      "10.24.0.253-2023-03-06-syslog.log\n",
      "10.24.0.253-2022-12-17-syslog.log\n",
      "10.24.0.253-2023-01-28-syslog.log\n",
      "10.24.0.253-2023-03-15-syslog.log\n",
      "10.24.0.253-2023-02-27-syslog.log\n",
      "10.24.0.253-2022-12-22-syslog.log\n",
      "10.24.0.253-2022-11-18-syslog.log\n",
      "10.24.0.253-2022-12-13-syslog.log\n",
      "10.24.0.253-2022-11-06-syslog.log\n",
      "10.24.0.253-2023-02-10-syslog.log\n",
      "10.24.0.253-2022-10-12-syslog.log\n",
      "10.24.0.253-2022-11-01-syslog.log\n",
      "10.24.0.253-2022-12-23-syslog.log\n",
      "10.24.0.253-2022-11-17-syslog.log\n",
      "10.24.0.253-2023-03-14-syslog.log\n",
      "10.24.0.253-2022-11-04-syslog.log\n",
      "10.24.0.253-2023-01-13-syslog.log\n",
      "10.24.0.253-2022-12-25-syslog.log\n",
      "10.24.0.253-2023-03-29-syslog.log\n",
      "10.24.0.253-2023-03-07-syslog.log\n",
      "10.24.0.253-2023-02-15-syslog.log\n",
      "10.24.0.253-2023-01-11-syslog.log\n",
      "10.24.0.253-2023-01-20-syslog.log\n",
      "10.24.0.253-2023-03-20-syslog.log\n",
      "10.24.0.253-2022-11-08-syslog.log\n",
      "10.24.0.253-2023-03-01-syslog.log\n",
      "10.24.0.253-2023-01-24-syslog.log\n",
      "10.24.0.253-2022-11-20-syslog.log\n",
      "10.24.0.253-2023-03-31-syslog.log\n",
      "10.24.0.253-2022-10-11-syslog.log\n",
      "10.24.0.253-2023-03-11-syslog.log\n",
      "10.24.0.253-2023-02-26-syslog.log\n",
      "10.24.0.253-2023-03-19-syslog.log\n",
      "10.24.0.253-2023-02-23-syslog.log\n",
      "10.24.0.253-2022-11-23-syslog.log\n",
      "10.24.0.253-2022-11-22-syslog.log\n",
      "10.24.0.253-2023-03-30-syslog.log\n",
      "10.24.0.253-2023-02-09-syslog.log\n",
      "10.24.0.253-2022-11-09-syslog.log\n",
      "10.24.0.253-2022-11-15-syslog.log\n",
      "10.24.0.253-2023-02-07-syslog.log\n",
      "10.24.0.253-2022-12-14-syslog.log\n",
      "10.24.0.253-2023-01-22-syslog.log\n",
      "10.24.0.253-2023-01-14-syslog.log\n",
      "10.24.0.253-2023-02-19-syslog.log\n",
      "10.24.0.253-2022-10-20-syslog.log\n",
      "10.24.0.253-2022-12-18-syslog.log\n",
      "10.24.0.253-2023-03-13-syslog.log\n",
      "10.24.0.253-2022-10-14-syslog.log\n",
      "10.24.0.253-2023-01-10-syslog.log\n",
      "10.24.0.253-2023-03-03-syslog.log\n",
      "10.24.0.253-2023-02-14-syslog.log\n",
      "10.24.0.253-2023-03-23-syslog.log\n",
      "10.24.0.253-2023-02-22-syslog.log\n",
      "10.24.0.253-2023-01-25-syslog.log\n",
      "10.24.0.253-2023-03-18-syslog.log\n",
      "10.24.0.253-2023-01-18-syslog.log\n",
      "10.24.0.253-2023-04-02-syslog.log\n",
      "10.24.0.253-2023-02-21-syslog.log\n",
      "10.24.0.253-2022-10-24-syslog.log\n",
      "10.24.0.253-2023-03-08-syslog.log\n",
      "10.24.0.253-2022-12-20-syslog.log\n",
      "10.24.0.253-2022-12-24-syslog.log\n",
      "10.24.0.253-2023-01-23-syslog.log\n",
      "10.24.0.253-2022-10-27-syslog.log\n",
      "10.24.0.253-2022-11-25-syslog.log\n",
      "10.24.0.253-2023-02-02-syslog.log\n",
      "10.24.0.253-2022-10-23-syslog.log\n",
      "10.24.0.253-2023-02-08-syslog.log\n",
      "10.24.0.253-2022-12-15-syslog.log\n",
      "10.24.0.253-2022-12-16-syslog.log\n",
      "10.24.0.253-2023-02-20-syslog.log\n",
      "10.24.0.253-2023-02-04-syslog.log\n",
      "10.24.0.253-2023-03-12-syslog.log\n",
      "10.24.0.253-2023-02-01-syslog.log\n",
      "10.24.0.253-2023-03-16-syslog.log\n",
      "10.24.0.253-2023-03-17-syslog.log\n",
      "10.24.0.253-2023-01-12-syslog.log\n",
      "10.24.0.253-2023-02-05-syslog.log\n",
      "10.24.0.253-2022-11-11-syslog.log\n",
      "10.24.0.253-2022-11-26-syslog.log\n",
      "10.24.0.253-2023-02-11-syslog.log\n",
      "10.24.0.253-2022-10-25-syslog.log\n",
      "10.24.0.253-2022-11-10-syslog.log\n",
      "10.24.0.253-2023-02-24-syslog.log\n",
      "10.24.0.253-2023-03-04-syslog.log\n",
      "10.24.0.253-2022-11-19-syslog.log\n",
      "10.24.0.253-2023-02-13-syslog.log\n",
      "10.24.0.253-2023-01-09-syslog.log\n",
      "10.24.0.253-2023-02-03-syslog.log\n",
      "10.24.0.253-2022-11-13-syslog.log\n",
      "10.24.0.253-2023-01-15-syslog.log\n",
      "10.24.0.253-2022-11-24-syslog.log\n",
      "10.24.0.253-2023-01-31-syslog.log\n",
      "10.24.0.253-2022-12-11-syslog.log\n",
      "10.24.0.253-2023-03-21-syslog.log\n",
      "10.24.0.253-2023-03-25-syslog.log\n",
      "10.24.0.253-2023-03-27-syslog.log\n",
      "10.24.0.253-2023-01-27-syslog.log\n",
      "10.24.0.253-2022-12-26-syslog.log\n",
      "10.24.0.253-2022-11-12-syslog.log\n",
      "10.24.0.253-2023-03-02-syslog.log\n"
     ]
    }
   ],
   "source": [
    "for file in log_files:\n",
    "    print(file)\n",
    "    filteredData = getUsefulFilter(file)\n",
    "    for URL in filteredData:\n",
    "        URL_new = re.sub(\"\\\\\\\\-\", \"-\", URL)\n",
    "        URL_freq_logs[URL_new] += 1\n",
    "        if URL_new in URL_freq:\n",
    "            URL_freq[URL_new] += 1\n",
    "    "
   ]
  },
  {
   "cell_type": "code",
   "execution_count": 11,
   "metadata": {},
   "outputs": [],
   "source": [
    "URL_freq = sorted(URL_freq.items(), key = lambda x : x[1], reverse = True)"
   ]
  },
  {
   "cell_type": "code",
   "execution_count": 23,
   "metadata": {},
   "outputs": [],
   "source": [
    "count = 0\n",
    "for (i,j) in URL_freq:\n",
    "    if j == 0:\n",
    "        count += 1"
   ]
  },
  {
   "cell_type": "code",
   "execution_count": 24,
   "metadata": {},
   "outputs": [
    {
     "data": {
      "text/plain": [
       "627"
      ]
     },
     "execution_count": 24,
     "metadata": {},
     "output_type": "execute_result"
    }
   ],
   "source": [
    "count"
   ]
  },
  {
   "cell_type": "code",
   "execution_count": 14,
   "metadata": {},
   "outputs": [],
   "source": [
    "URL_freq_DF = pd.DataFrame(URL_freq, columns = ['URL', 'count'])"
   ]
  },
  {
   "cell_type": "code",
   "execution_count": 15,
   "metadata": {},
   "outputs": [
    {
     "data": {
      "text/html": [
       "<div>\n",
       "<style scoped>\n",
       "    .dataframe tbody tr th:only-of-type {\n",
       "        vertical-align: middle;\n",
       "    }\n",
       "\n",
       "    .dataframe tbody tr th {\n",
       "        vertical-align: top;\n",
       "    }\n",
       "\n",
       "    .dataframe thead th {\n",
       "        text-align: right;\n",
       "    }\n",
       "</style>\n",
       "<table border=\"1\" class=\"dataframe\">\n",
       "  <thead>\n",
       "    <tr style=\"text-align: right;\">\n",
       "      <th></th>\n",
       "      <th>URL</th>\n",
       "      <th>count</th>\n",
       "    </tr>\n",
       "  </thead>\n",
       "  <tbody>\n",
       "    <tr>\n",
       "      <th>0</th>\n",
       "      <td>/</td>\n",
       "      <td>876117</td>\n",
       "    </tr>\n",
       "    <tr>\n",
       "      <th>1</th>\n",
       "      <td>/sites/default/files/js/js_L0JHXVH_b3zU1WK3g5A...</td>\n",
       "      <td>409463</td>\n",
       "    </tr>\n",
       "    <tr>\n",
       "      <th>2</th>\n",
       "      <td>/sites/default/files/js/js_3zRZxLRFPv3bNbV-2RQ...</td>\n",
       "      <td>395420</td>\n",
       "    </tr>\n",
       "    <tr>\n",
       "      <th>3</th>\n",
       "      <td>/themes/custom/iitm/assets/images/logo.png</td>\n",
       "      <td>388396</td>\n",
       "    </tr>\n",
       "    <tr>\n",
       "      <th>4</th>\n",
       "      <td>/themes/custom/iitm/assets/images/footer-logo.png</td>\n",
       "      <td>387412</td>\n",
       "    </tr>\n",
       "    <tr>\n",
       "      <th>...</th>\n",
       "      <td>...</td>\n",
       "      <td>...</td>\n",
       "    </tr>\n",
       "    <tr>\n",
       "      <th>5382</th>\n",
       "      <td>/sites/default/files/styles/img_s5/public/happ...</td>\n",
       "      <td>0</td>\n",
       "    </tr>\n",
       "    <tr>\n",
       "      <th>5383</th>\n",
       "      <td>/sites/default/files/styles/img_s5/public/happ...</td>\n",
       "      <td>0</td>\n",
       "    </tr>\n",
       "    <tr>\n",
       "      <th>5384</th>\n",
       "      <td>/sites/default/files/styles/img_s5/public/happ...</td>\n",
       "      <td>0</td>\n",
       "    </tr>\n",
       "    <tr>\n",
       "      <th>5385</th>\n",
       "      <td>/sites/default/files/styles/img_s5/public/happ...</td>\n",
       "      <td>0</td>\n",
       "    </tr>\n",
       "    <tr>\n",
       "      <th>5386</th>\n",
       "      <td>/sites/default/files/styles/img_s5/public/happ...</td>\n",
       "      <td>0</td>\n",
       "    </tr>\n",
       "  </tbody>\n",
       "</table>\n",
       "<p>5387 rows × 2 columns</p>\n",
       "</div>"
      ],
      "text/plain": [
       "                                                    URL   count\n",
       "0                                                     /  876117\n",
       "1     /sites/default/files/js/js_L0JHXVH_b3zU1WK3g5A...  409463\n",
       "2     /sites/default/files/js/js_3zRZxLRFPv3bNbV-2RQ...  395420\n",
       "3            /themes/custom/iitm/assets/images/logo.png  388396\n",
       "4     /themes/custom/iitm/assets/images/footer-logo.png  387412\n",
       "...                                                 ...     ...\n",
       "5382  /sites/default/files/styles/img_s5/public/happ...       0\n",
       "5383  /sites/default/files/styles/img_s5/public/happ...       0\n",
       "5384  /sites/default/files/styles/img_s5/public/happ...       0\n",
       "5385  /sites/default/files/styles/img_s5/public/happ...       0\n",
       "5386  /sites/default/files/styles/img_s5/public/happ...       0\n",
       "\n",
       "[5387 rows x 2 columns]"
      ]
     },
     "execution_count": 15,
     "metadata": {},
     "output_type": "execute_result"
    }
   ],
   "source": [
    "URL_freq_DF"
   ]
  },
  {
   "cell_type": "code",
   "execution_count": 16,
   "metadata": {},
   "outputs": [],
   "source": [
    "URL_freq_DF.to_csv('URL_freq_new.csv', index = False)"
   ]
  },
  {
   "cell_type": "code",
   "execution_count": 17,
   "metadata": {},
   "outputs": [],
   "source": [
    "URL_freq_logs = sorted(URL_freq_logs.items(), key = lambda x : x[1], reverse = True)"
   ]
  },
  {
   "cell_type": "code",
   "execution_count": 18,
   "metadata": {},
   "outputs": [],
   "source": [
    "URL_freq_logs_DF = pd.DataFrame(URL_freq_logs, columns = ['URL', 'count'])"
   ]
  },
  {
   "cell_type": "code",
   "execution_count": 19,
   "metadata": {},
   "outputs": [
    {
     "data": {
      "text/html": [
       "<div>\n",
       "<style scoped>\n",
       "    .dataframe tbody tr th:only-of-type {\n",
       "        vertical-align: middle;\n",
       "    }\n",
       "\n",
       "    .dataframe tbody tr th {\n",
       "        vertical-align: top;\n",
       "    }\n",
       "\n",
       "    .dataframe thead th {\n",
       "        text-align: right;\n",
       "    }\n",
       "</style>\n",
       "<table border=\"1\" class=\"dataframe\">\n",
       "  <thead>\n",
       "    <tr style=\"text-align: right;\">\n",
       "      <th></th>\n",
       "      <th>URL</th>\n",
       "      <th>count</th>\n",
       "    </tr>\n",
       "  </thead>\n",
       "  <tbody>\n",
       "    <tr>\n",
       "      <th>0</th>\n",
       "      <td>/</td>\n",
       "      <td>876117</td>\n",
       "    </tr>\n",
       "    <tr>\n",
       "      <th>1</th>\n",
       "      <td>/custom/ajax/weather</td>\n",
       "      <td>874826</td>\n",
       "    </tr>\n",
       "    <tr>\n",
       "      <th>2</th>\n",
       "      <td>/sites/all/themes/itheme/images/iitmlogo120.png</td>\n",
       "      <td>436141</td>\n",
       "    </tr>\n",
       "    <tr>\n",
       "      <th>3</th>\n",
       "      <td>/sites/default/files/js/js_L0JHXVH_b3zU1WK3g5A...</td>\n",
       "      <td>409463</td>\n",
       "    </tr>\n",
       "    <tr>\n",
       "      <th>4</th>\n",
       "      <td>/sites/default/files/js/js_3zRZxLRFPv3bNbV-2RQ...</td>\n",
       "      <td>395420</td>\n",
       "    </tr>\n",
       "    <tr>\n",
       "      <th>...</th>\n",
       "      <td>...</td>\n",
       "      <td>...</td>\n",
       "    </tr>\n",
       "    <tr>\n",
       "      <th>656680</th>\n",
       "      <td>/search_api_autocomplete/people_search?display...</td>\n",
       "      <td>1</td>\n",
       "    </tr>\n",
       "    <tr>\n",
       "      <th>656681</th>\n",
       "      <td>/search_api_autocomplete/content_search?displa...</td>\n",
       "      <td>1</td>\n",
       "    </tr>\n",
       "    <tr>\n",
       "      <th>656682</th>\n",
       "      <td>/search_api_autocomplete/location_search?displ...</td>\n",
       "      <td>1</td>\n",
       "    </tr>\n",
       "    <tr>\n",
       "      <th>656683</th>\n",
       "      <td>/search_api_autocomplete/people_search?display...</td>\n",
       "      <td>1</td>\n",
       "    </tr>\n",
       "    <tr>\n",
       "      <th>656684</th>\n",
       "      <td>/students/sinfo/PH10D011</td>\n",
       "      <td>1</td>\n",
       "    </tr>\n",
       "  </tbody>\n",
       "</table>\n",
       "<p>656685 rows × 2 columns</p>\n",
       "</div>"
      ],
      "text/plain": [
       "                                                      URL   count\n",
       "0                                                       /  876117\n",
       "1                                    /custom/ajax/weather  874826\n",
       "2         /sites/all/themes/itheme/images/iitmlogo120.png  436141\n",
       "3       /sites/default/files/js/js_L0JHXVH_b3zU1WK3g5A...  409463\n",
       "4       /sites/default/files/js/js_3zRZxLRFPv3bNbV-2RQ...  395420\n",
       "...                                                   ...     ...\n",
       "656680  /search_api_autocomplete/people_search?display...       1\n",
       "656681  /search_api_autocomplete/content_search?displa...       1\n",
       "656682  /search_api_autocomplete/location_search?displ...       1\n",
       "656683  /search_api_autocomplete/people_search?display...       1\n",
       "656684                           /students/sinfo/PH10D011       1\n",
       "\n",
       "[656685 rows x 2 columns]"
      ]
     },
     "execution_count": 19,
     "metadata": {},
     "output_type": "execute_result"
    }
   ],
   "source": [
    "URL_freq_logs_DF"
   ]
  },
  {
   "cell_type": "code",
   "execution_count": 20,
   "metadata": {},
   "outputs": [],
   "source": [
    "URL_freq_logs_DF.to_csv('URL_freq_logs_new.csv', index = False)"
   ]
  },
  {
   "cell_type": "code",
   "execution_count": null,
   "metadata": {},
   "outputs": [],
   "source": []
  }
 ],
 "metadata": {
  "kernelspec": {
   "display_name": "Python 3 (ipykernel)",
   "language": "python",
   "name": "python3"
  },
  "language_info": {
   "codemirror_mode": {
    "name": "ipython",
    "version": 3
   },
   "file_extension": ".py",
   "mimetype": "text/x-python",
   "name": "python",
   "nbconvert_exporter": "python",
   "pygments_lexer": "ipython3",
   "version": "3.10.6"
  }
 },
 "nbformat": 4,
 "nbformat_minor": 2
}
